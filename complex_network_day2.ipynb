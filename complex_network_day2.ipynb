{
 "cells": [
  {
   "cell_type": "markdown",
   "metadata": {},
   "source": [
    "# Redes Complexas: uma introdução (parte 2)"
   ]
  },
  {
   "cell_type": "code",
   "execution_count": null,
   "metadata": {},
   "outputs": [],
   "source": [
    "# import da biblioteca networkx\n",
    "import networkx as nx\n",
    "\n",
    "# import matplotlib\n",
    "import matplotlib as mpl\n",
    "import matplotlib.pyplot as plt\n",
    "\n",
    "# import numpy\n",
    "import numpy as np\n",
    "\n",
    "# import pandas\n",
    "import pandas as pd"
   ]
  },
  {
   "cell_type": "markdown",
   "metadata": {},
   "source": [
    "## Medidas de centralidade\n",
    "\n",
    "As **métricas de centralidade** fazem parte de um grupo de métricas de redes chamadas métricas locais, que descrevem características individuais dos nós."
   ]
  },
  {
   "cell_type": "markdown",
   "metadata": {},
   "source": [
    "## Redes(grafos)\n",
    "\n",
    "Considere um grafo $G =(V, E)$ onde $|V| = n$, $|E| = m$."
   ]
  },
  {
   "cell_type": "code",
   "execution_count": null,
   "metadata": {},
   "outputs": [],
   "source": [
    "# grafo karate club\n",
    "KCG = nx.karate_club_graph()"
   ]
  },
  {
   "cell_type": "code",
   "execution_count": null,
   "metadata": {},
   "outputs": [],
   "source": [
    "# imprime uma lista com os nós de g (karate club)\n",
    "nodes_ = KCG.nodes()\n",
    "print(f'nodes: {nodes_}')\n",
    "\n",
    "# imprime uma lista com as arestas de g (karate club)\n",
    "edges_ = KCG.edges()\n",
    "print(f'arestas: {edges_}')"
   ]
  },
  {
   "cell_type": "code",
   "execution_count": null,
   "metadata": {},
   "outputs": [],
   "source": [
    "n = nx.number_of_nodes(KCG) # número de nos\n",
    "m = nx.number_of_edges(KCG) # número de arestas\n",
    "\n",
    "print(f\"numero de nos: {n}\")\n",
    "print(f\"numero de arestas: {m}\")"
   ]
  },
  {
   "cell_type": "code",
   "execution_count": null,
   "metadata": {},
   "outputs": [],
   "source": [
    "# grafico da grafo\n",
    "\n",
    "fig, ax = plt.subplots(figsize=(12,8))\n",
    "\n",
    "# imprime o grafo\n",
    "nx.draw(KCG, node_size=500, with_labels = True)\n",
    "\n",
    "plt.show()"
   ]
  },
  {
   "cell_type": "code",
   "execution_count": null,
   "metadata": {},
   "outputs": [],
   "source": [
    "# verifica se o grafo é conexo\n",
    "print(nx.is_connected(KCG))"
   ]
  },
  {
   "cell_type": "markdown",
   "metadata": {},
   "source": [
    "### Grau de centralidade\n",
    "\n",
    "- A métrica de **grau** refere-se ao número de links de cada nó da rede. \n",
    "\n",
    "- **nx.degree()**: função do networkx que retorna o grau cada nó da rede.\n",
    "\n",
    "- A métrica de **grau de centralidade** atribui uma pontuação(fração) de importância com base no número de links mantido por cada nó.\n",
    "\n",
    "- A métrica **grau de centralidade** do nó $i$ é dado pela fórmula $\\dfrac{grau(i)}{|V|}$ para cada $i \\in V$.\n",
    "\n",
    "- Essa métrica nos fala o quanto direto é a conexão de um nó com os outros nós da rede.\n",
    "\n",
    "- **nx.degree_centrality()**: função do networkx que retorna o grau de centralidade de cada nó da rede."
   ]
  },
  {
   "cell_type": "code",
   "execution_count": null,
   "metadata": {},
   "outputs": [],
   "source": [
    "# calcula o graus de cada no\n",
    "dic_grau = dict(nx.degree(KCG))\n",
    "val_grau = dict(nx.degree(KCG)).values()"
   ]
  },
  {
   "cell_type": "code",
   "execution_count": null,
   "metadata": {},
   "outputs": [],
   "source": [
    "set_grau = set(dic_grau.values())\n",
    "print(f\"Grau = {set_grau}\")\n",
    "\n",
    "for i in set_grau:\n",
    "    print(i, end= \" : \")\n",
    "    for key, value in dic_grau.items():\n",
    "        if i == dic_grau[key]:\n",
    "            print(key, end=\", \")\n",
    "    print()"
   ]
  },
  {
   "cell_type": "code",
   "execution_count": null,
   "metadata": {},
   "outputs": [],
   "source": [
    "# imprime o grau dos nodes\n",
    "#for key, value in dic_grau.items():\n",
    "#    print(f\"grau do no{key} : {value}\")"
   ]
  },
  {
   "cell_type": "code",
   "execution_count": null,
   "metadata": {},
   "outputs": [],
   "source": [
    "# rank em relacao ao grau\n",
    "\n",
    "ranks = [(k, v) for k, v in sorted(dic_grau.items(), key=lambda item: -item[1])]\n",
    "\n",
    "# os k melhores\n",
    "k = 14\n",
    "ranks[0:k]"
   ]
  },
  {
   "cell_type": "code",
   "execution_count": null,
   "metadata": {},
   "outputs": [],
   "source": [
    "# grafico com graus\n",
    "\n",
    "fig, ax = plt.subplots(1,1,figsize=(15,10))\n",
    "\n",
    "G = KCG\n",
    "\n",
    "# layout position\n",
    "pos = nx.kamada_kawai_layout(G)\n",
    "\n",
    "# define a cor do nos\n",
    "color = list(dic_grau.values())\n",
    "\n",
    "# draw edges\n",
    "nx.draw_networkx_edges(G, \n",
    "                       pos=pos, \n",
    "                       alpha=0.4, \n",
    "                       ax=ax)\n",
    "\n",
    "# draw nodes\n",
    "nodes = nx.draw_networkx_nodes(G,\n",
    "                               node_size=800,\n",
    "                               pos=pos,\n",
    "                               node_color=color,\n",
    "                               cmap=plt.cm.jet,\n",
    "                               ax=ax)\n",
    "\n",
    "# draw labels\n",
    "nx.draw_networkx_labels(G, \n",
    "                        pos=pos, \n",
    "                        font_color='white', \n",
    "                        ax=ax)\n",
    "\n",
    "plt.axis(\"off\")\n",
    "plt.colorbar(nodes)\n",
    "plt.show()"
   ]
  },
  {
   "cell_type": "code",
   "execution_count": null,
   "metadata": {},
   "outputs": [],
   "source": [
    "# grau de centralidade dos nodes da rede\n",
    "\n",
    "dic_grau_center = nx.degree_centrality(KCG)\n",
    "val_grau_center = dic_grau_center.values()\n",
    "\n",
    "set_grau_center = set(dic_grau_center.values())\n",
    "\n",
    "print(f\"Grau_center: {set_grau_center}\")\n",
    "\n",
    "\n",
    "for i in set_grau_center:\n",
    "    print(i, end= \" : \")\n",
    "    for key, value in dic_grau_center.items():\n",
    "        if i == dic_grau_center[key]:\n",
    "            print(key, end=\", \")\n",
    "    print()"
   ]
  },
  {
   "cell_type": "code",
   "execution_count": null,
   "metadata": {},
   "outputs": [],
   "source": [
    "# rank em relacao a centralidade de grau\n",
    "\n",
    "ranks = [(k, v) for k, v in sorted(dic_grau_center.items(), key=lambda item: -item[1])]\n",
    "\n",
    "# os k melhores\n",
    "k = 14\n",
    "ranks[0:k]"
   ]
  },
  {
   "cell_type": "code",
   "execution_count": null,
   "metadata": {},
   "outputs": [],
   "source": [
    "# imprime grau de centralidade de cada node\n",
    "\n",
    "#for key, value in grau_center.items():\n",
    "#    print(f\"grau de centralidade do no {key} : {value}\")"
   ]
  },
  {
   "cell_type": "code",
   "execution_count": null,
   "metadata": {},
   "outputs": [],
   "source": [
    "# grau de centralidade\n",
    "\n",
    "fig, ax = plt.subplots(1,1,figsize=(15,10))\n",
    "\n",
    "G = KCG\n",
    "\n",
    "# layout position\n",
    "pos = nx.kamada_kawai_layout(G)\n",
    "\n",
    "# color of nodes\n",
    "color = list(val_grau_center)\n",
    "\n",
    "# draw edges\n",
    "nx.draw_networkx_edges(G, \n",
    "                       pos=pos, \n",
    "                       alpha=0.4, \n",
    "                       ax=ax)\n",
    "\n",
    "# draw nodes\n",
    "nodes = nx.draw_networkx_nodes(G, \n",
    "                               pos=pos, \n",
    "                               node_size=800,\n",
    "                               node_color=color,\n",
    "                               cmap=plt.cm.jet,\n",
    "                               ax=ax)\n",
    "\n",
    "# draw labels\n",
    "nx.draw_networkx_labels(G, \n",
    "                        pos=pos,\n",
    "                        font_color='white', \n",
    "                        ax=ax)\n",
    "\n",
    "plt.axis(\"off\")\n",
    "plt.colorbar(nodes)\n",
    "plt.show()"
   ]
  },
  {
   "cell_type": "markdown",
   "metadata": {},
   "source": [
    "## Métricas geométricas\n",
    "\n",
    "- Seja $G_i = (V_i,E_i)$ uma componente conexa de $G$ que contém o nó $i \\in V$\n",
    "\n",
    "- A **excentricidade** do nó $i \\in G_i$ é a maior distância geodésica de um $i$ aos demais nós de $G_i$.\n",
    "$$\n",
    "ec(i) = \\max_{j \\in V_i} sp(i,j) \\; \\forall \\; i \\in V_i\n",
    "$$\n",
    "onde $sp(i,j)$ é o tamanho da distância geodésica do nó $i$ para o nó $j \\in V_i$.\n",
    "\n",
    "- A **centralidade de excentricidade** do nó $i$ é dado pela reciproca da sua excentricidade\n",
    "$$\n",
    "cec(i) = \\frac{1}{ec(i)} \\; \\forall \\; i \\in V_i\n",
    "$$\n",
    "\n"
   ]
  },
  {
   "cell_type": "code",
   "execution_count": null,
   "metadata": {},
   "outputs": [],
   "source": [
    "# calculo da excentricidade\n",
    "\n",
    "dic_ec  = nx.eccentricity(KCG)\n",
    "val_ec  = list(nx.eccentricity(KCG).values())\n",
    "\n",
    "set_ec = set(dic_ec.values())\n",
    "print(f\"EC = {set_ec}\")\n",
    "\n",
    "for i in set_ec:\n",
    "    print(i, end= \" : \")\n",
    "    for key, value in dic_ec.items():\n",
    "        if i == dic_ec[key]:\n",
    "            print(key, end=\", \")\n",
    "    print()"
   ]
  },
  {
   "cell_type": "code",
   "execution_count": null,
   "metadata": {},
   "outputs": [],
   "source": [
    "#dic_cec = {}\n",
    "#for key, value in dic_ec.items():\n",
    "#    print(f\"excentricidade do no {key} : {value}\")"
   ]
  },
  {
   "cell_type": "code",
   "execution_count": null,
   "metadata": {},
   "outputs": [],
   "source": [
    "# rank em relacao a excentricidade\n",
    "\n",
    "ranks = [(k, v) for k, v in sorted(dic_ec.items(), key=lambda item: -item[1])]\n",
    "\n",
    "# os k melhores\n",
    "k = 14\n",
    "ranks[0:k]"
   ]
  },
  {
   "cell_type": "code",
   "execution_count": null,
   "metadata": {},
   "outputs": [],
   "source": [
    "# grafico da excentricidade\n",
    "\n",
    "fig, ax = plt.subplots(1,1,figsize=(15,10))\n",
    "\n",
    "G = KCG\n",
    "\n",
    "# layout position\n",
    "pos = nx.kamada_kawai_layout(G)\n",
    "\n",
    "# color of nodes\n",
    "color = list(val_ec)\n",
    "\n",
    "# draw edges\n",
    "nx.draw_networkx_edges(G, \n",
    "                       pos=pos, \n",
    "                       alpha=0.4, \n",
    "                       ax=ax)\n",
    "\n",
    "# draw nodes\n",
    "nodes = nx.draw_networkx_nodes(G,\n",
    "                               node_size=800,\n",
    "                               pos=pos,\n",
    "                               node_color=color,\n",
    "                               cmap=plt.cm.jet,\n",
    "                               ax=ax)\n",
    "\n",
    "# draw labels\n",
    "nx.draw_networkx_labels(G, \n",
    "                        pos=pos, \n",
    "                        font_color='white', \n",
    "                        ax=ax)\n",
    "\n",
    "plt.axis(\"off\")\n",
    "plt.colorbar(nodes)\n",
    "plt.show()"
   ]
  },
  {
   "cell_type": "code",
   "execution_count": null,
   "metadata": {},
   "outputs": [],
   "source": [
    "# calculo da centralidade de excentricidade\n",
    "\n",
    "dic_cec = {}\n",
    "for key, value in dic_ec.items():\n",
    "    dic_cec[key] = 1.0/value\n",
    "\n",
    "val_cec = list(dic_cec.values())"
   ]
  },
  {
   "cell_type": "code",
   "execution_count": null,
   "metadata": {},
   "outputs": [],
   "source": [
    "set_cec = set(dic_cec.values())\n",
    "print(f\"CEC = {set_cec}\")\n",
    "\n",
    "for i in set_cec:\n",
    "    print(i, end= \" : \")\n",
    "    for key, value in dic_cec.items():\n",
    "        if i == dic_cec[key]:\n",
    "            print(key, end=\", \")\n",
    "    print()"
   ]
  },
  {
   "cell_type": "code",
   "execution_count": null,
   "metadata": {},
   "outputs": [],
   "source": [
    "# rank em relacao a centralidade de excentricidade\n",
    "\n",
    "ranks = [(k, v) for k, v in sorted(dic_cec.items(), key=lambda item: -item[1])]\n",
    "\n",
    "# os k melhores\n",
    "k = 14\n",
    "ranks[0:k]"
   ]
  },
  {
   "cell_type": "code",
   "execution_count": null,
   "metadata": {},
   "outputs": [],
   "source": [
    "# imprime a centralidade de excentricidade\n",
    "\n",
    "#for key, value in dic_cec.items():\n",
    "#    print(f\"centralidade de excentricidade do no {key} : {value}\")"
   ]
  },
  {
   "cell_type": "code",
   "execution_count": null,
   "metadata": {},
   "outputs": [],
   "source": [
    "# grafico da centralidade de excentricidade\n",
    "\n",
    "G = KCG\n",
    "\n",
    "fig, ax = plt.subplots(1,1,figsize=(12,8))\n",
    "\n",
    "# layout position\n",
    "pos = nx.kamada_kawai_layout(G)\n",
    "\n",
    "# color of nodes\n",
    "color = list(val_cec)\n",
    "\n",
    "# draw edges\n",
    "nx.draw_networkx_edges(G, \n",
    "                       pos=pos, \n",
    "                       alpha=0.4, \n",
    "                       ax=ax)\n",
    "\n",
    "# draw nodes\n",
    "nodes = nx.draw_networkx_nodes(G,\n",
    "                               node_size=800,\n",
    "                               pos=pos,\n",
    "                               node_color=color,\n",
    "                               cmap=plt.cm.jet,\n",
    "                               ax=ax)\n",
    "\n",
    "# draw labels\n",
    "nx.draw_networkx_labels(G, \n",
    "                        pos=pos, \n",
    "                        font_color='white', \n",
    "                        ax=ax)\n",
    "\n",
    "plt.axis(\"off\")\n",
    "plt.colorbar(nodes)\n",
    "plt.show()"
   ]
  },
  {
   "cell_type": "code",
   "execution_count": null,
   "metadata": {},
   "outputs": [],
   "source": [
    "# grau x centralidade de excentricidade\n",
    "\n",
    "fig, ax = plt.subplots(1,1,figsize=(12,8))\n",
    "plt.plot(val_grau, val_cec, 'o')\n",
    "plt.xlabel('grau')\n",
    "plt.ylabel('centralidade de excentricidade')\n",
    "plt.show()"
   ]
  },
  {
   "cell_type": "markdown",
   "metadata": {},
   "source": [
    "### Centralidade de proximidade\n",
    "\n",
    "- A **centralidade de proximidade** pontua cada nó com base em sua **proximidade** com todos os outros nós da rede.\n",
    "\n",
    "- Esta medida calcula os caminhos mais curtos entre todos os nós e, em seguida, atribui a cada nó uma pontuação com base na soma dos caminhos mais curtos.\n",
    "\n",
    "- Podemos usar essa medida para encontrar os nós que estão em melhor posição para influenciar toda a rede mais rapidamente.\n",
    "\n",
    "- A **centralidade de proximidade** do nó $i$ é igual ao reciproco da média aritmética das distâncias geodésicas do nó $i$ para os demais nós $j$ da mesma componente do nó $i$, ou seja\n",
    "$$\n",
    "C_{c}(i) = \\dfrac{|V_i| - 1}{\\sum_{j \\in {V_i - \\{i\\}}} sp(i,j)} \\; \\forall \\; i \\in V_i\n",
    "$$\n",
    "\n",
    "- **nx.closeness_centrality()**: função do networkx que retorna a centralidade de proximidade de cada nó da rede."
   ]
  },
  {
   "cell_type": "code",
   "execution_count": null,
   "metadata": {},
   "outputs": [],
   "source": [
    "# calculo da centralidade de proximidade\n",
    "\n",
    "dic_cc  = nx.closeness_centrality(KCG)\n",
    "val_cc  = list(nx.closeness_centrality(KCG).values())\n",
    "\n",
    "set_cc = set(val_cc)\n",
    "print(f\"CEC = {set_cc}\")\n",
    "\n",
    "for i in set_cc:\n",
    "    print(i, end= \" : \")\n",
    "    for key, value in dic_cc.items():\n",
    "        if i == dic_cc[key]:\n",
    "            print(key, end=\", \")\n",
    "    print()"
   ]
  },
  {
   "cell_type": "code",
   "execution_count": null,
   "metadata": {},
   "outputs": [],
   "source": [
    "# rank em relacao a centralidade de proximidade\n",
    "\n",
    "ranks = [(k, v) for k, v in sorted(dic_cc.items(), key=lambda item: -item[1])]\n",
    "\n",
    "# os k melhores\n",
    "k = 14\n",
    "ranks[0:k]"
   ]
  },
  {
   "cell_type": "code",
   "execution_count": null,
   "metadata": {},
   "outputs": [],
   "source": [
    "# imprime a centralidade de proximidade\n",
    "\n",
    "#for key, value in dic_cc.items():\n",
    "#    print(f\"centralidade de proximidade do v{key} : {value}\")"
   ]
  },
  {
   "cell_type": "code",
   "execution_count": null,
   "metadata": {},
   "outputs": [],
   "source": [
    "# grafico da centralidade de proximidade\n",
    "\n",
    "G = KCG\n",
    "\n",
    "fig, ax = plt.subplots(1,1,figsize=(12,8))\n",
    "\n",
    "# layout position\n",
    "pos = nx.kamada_kawai_layout(G)\n",
    "\n",
    "# color of nodes\n",
    "color = list(val_cc)\n",
    "\n",
    "# draw edges\n",
    "nx.draw_networkx_edges(G, \n",
    "                       pos=pos, \n",
    "                       alpha=0.4, \n",
    "                       ax=ax)\n",
    "\n",
    "# draw nodes\n",
    "nodes = nx.draw_networkx_nodes(G,\n",
    "                               node_size=800,\n",
    "                               pos=pos,\n",
    "                               node_color=color,\n",
    "                               cmap=plt.cm.jet,\n",
    "                               ax=ax)\n",
    "\n",
    "# draw labels\n",
    "nx.draw_networkx_labels(G, \n",
    "                        pos=pos, \n",
    "                        font_color='white', \n",
    "                        ax=ax)\n",
    "\n",
    "plt.axis(\"off\")\n",
    "plt.colorbar(nodes)\n",
    "plt.show()"
   ]
  },
  {
   "cell_type": "code",
   "execution_count": null,
   "metadata": {},
   "outputs": [],
   "source": [
    "# grau x centralidade de proximidade\n",
    "\n",
    "fig, ax = plt.subplots(1,1,figsize=(12,8))\n",
    "plt.plot(nodes_, val_cc, 'o')\n",
    "plt.xlabel('grau')\n",
    "plt.ylabel('centralidade de proximidade')\n",
    "plt.show()"
   ]
  },
  {
   "cell_type": "markdown",
   "metadata": {},
   "source": [
    "### Centralidade harmônica\n",
    "\n",
    "- Na **centralidade harmônica** a média aritmética das distâncias presente na **centralidade de proximidade** é substituida pela **média harmônica** das mesmas em que nós pertencentes a componentes distintas possuem distâncias infinitas entre si, ou seja,\n",
    "$$\n",
    "C_h(i) = \\dfrac{1}{n-1} \\left[ \\sum_{j\\not=i} \\dfrac{1}{sp(i,j)} \\right] \\; \\forall \\; i \\in V\n",
    "$$\n",
    "\n",
    "- **nx.harmonic_centrality()**: função do networkx que retorna o centralidade harmônica de cada nó da rede, sem normalizar(sem dividor por $n-1$).\n",
    "\n",
    "- A **centralidade harmônica** contorna o problema de redes com mais de uma componente conexas, onde temos distâncias geodésicas infinitas."
   ]
  },
  {
   "cell_type": "code",
   "execution_count": null,
   "metadata": {},
   "outputs": [],
   "source": [
    "# calculo da centralidade harmonica\n",
    "\n",
    "dic_chu = nx.harmonic_centrality(KCG)\n",
    "val_chu = list(nx.harmonic_centrality(KCG).values())\n",
    "\n",
    "set_chu = set(val_chu)\n",
    "print(f\"CHU = {len(set_chu)}\")\n",
    "\n",
    "for i in set_chu:\n",
    "    print(i, end= \" : \")\n",
    "    for key, value in dic_chu.items():\n",
    "        if i == dic_chu[key]:\n",
    "            print(key, end=\", \")\n",
    "    print()\n",
    "\n",
    "\n",
    "# imprime a centralidade harmonica\n",
    "#for key, value in dic_chu.items():\n",
    "#    print(f\"centralidade harmonica do v{key} : {value}\")"
   ]
  },
  {
   "cell_type": "code",
   "execution_count": null,
   "metadata": {},
   "outputs": [],
   "source": [
    "# rank em relacao a centralidade harmonica\n",
    "\n",
    "ranks = [(k, v) for k, v in sorted(dic_chu.items(), key=lambda item: -item[1])]\n",
    "\n",
    "# os k melhores\n",
    "k = 14\n",
    "ranks[0:k]"
   ]
  },
  {
   "cell_type": "code",
   "execution_count": null,
   "metadata": {},
   "outputs": [],
   "source": [
    "# centraliade harmonica normalizada\n",
    "\n",
    "#chn = [x/(len(val_chu)-1) for x in val_chu]  # normalização\n",
    "\n",
    "# normalizacao\n",
    "dic_chn = {}\n",
    "for key, value in dic_chu.items():\n",
    "    dic_chn[key] = value/(n-1)\n",
    "    #dic_chn[key] = chn[key]\n",
    "\n",
    "val_chn = list(dic_chn.values())\n",
    "\n",
    "set_chn = set(val_chn)\n",
    "print(f\"CHN = {len(set_chn)}\")\n",
    "\n",
    "for i in set_chn:\n",
    "    print(i, end= \" : \")\n",
    "    for key, value in dic_chn.items():\n",
    "        if i == dic_chn[key]:\n",
    "            print(key, end=\", \")\n",
    "    print()\n",
    "\n",
    "#for key, value in dic_chn.items():\n",
    "#    print(f\"centralidade harmonica normalizada do v{key} : {value}\")"
   ]
  },
  {
   "cell_type": "code",
   "execution_count": null,
   "metadata": {},
   "outputs": [],
   "source": [
    "# rank em relacao a centralidade harmonica normalizada\n",
    "\n",
    "ranks = [(k, v) for k, v in sorted(dic_chn.items(), key=lambda item: -item[1])]\n",
    "\n",
    "# os k melhores\n",
    "k = 14\n",
    "ranks[0:k]"
   ]
  },
  {
   "cell_type": "code",
   "execution_count": null,
   "metadata": {},
   "outputs": [],
   "source": [
    "# gráfico da centralidade harmonica\n",
    "\n",
    "G = KCG\n",
    "\n",
    "fig, ax = plt.subplots(1,1,figsize=(12,8))\n",
    "\n",
    "# layout position\n",
    "pos = nx.kamada_kawai_layout(G)\n",
    "\n",
    "# color of nodes\n",
    "color = val_chn\n",
    "\n",
    "# draw edges\n",
    "nx.draw_networkx_edges(G, \n",
    "                       pos=pos, \n",
    "                       alpha=0.4, \n",
    "                       ax=ax)\n",
    "\n",
    "# draw nodes\n",
    "nodes = nx.draw_networkx_nodes(G,\n",
    "                               node_size=800,\n",
    "                               pos=pos,\n",
    "                               node_color=color,\n",
    "                               cmap=plt.cm.jet,\n",
    "                               ax=ax)\n",
    "\n",
    "# draw labels\n",
    "nx.draw_networkx_labels(G, \n",
    "                        pos=pos, \n",
    "                        font_color='white', \n",
    "                        ax=ax)\n",
    "\n",
    "plt.axis(\"off\")\n",
    "plt.colorbar(nodes)\n",
    "plt.show()"
   ]
  },
  {
   "cell_type": "code",
   "execution_count": null,
   "metadata": {},
   "outputs": [],
   "source": [
    "# grau x centralidade harmonica normalizada\n",
    "\n",
    "fig, ax = plt.subplots(1,1,figsize=(12,8))\n",
    "plt.plot(val_grau, val_chn , 'o')\n",
    "plt.xlabel('grau')\n",
    "plt.ylabel('centralidade harmonica normalizada')\n",
    "plt.show()\n"
   ]
  },
  {
   "cell_type": "markdown",
   "metadata": {},
   "source": [
    "### Centralidade de p-média\n",
    "\n",
    "- A **centralidade de p-média** usa a noção de média generalizadas das distâncias.\n",
    "\n",
    "- A **centralidade de p-média** generaliza as três médias anteriores: execentricidade, proximidade e harmônica.\n",
    "\n",
    "- Fórmula da **centralidade de p-média**:\n",
    "\n",
    "\\begin{equation*}\n",
    "C_{p}(i) = \\left\\{\n",
    "\\begin{matrix}\n",
    "\\left( \\dfrac{\\sum_{j \\in  V_{i}-\\{i\\}} sp(i,j)^p}{n-1} \\right)^{\\dfrac{-1}{p}}, \\; se \\; p \\not= 0 \\\\\n",
    "\\left( \\prod_{j \\in V_{i}-\\{i\\}} sp(i,j) \\right)^{\\dfrac{-1}{n-1}}, \\; se \\; p = 0 \\\\\n",
    "\\end{matrix}\n",
    "\\right.\n",
    "\\end{equation*}"
   ]
  },
  {
   "cell_type": "code",
   "execution_count": null,
   "metadata": {},
   "outputs": [],
   "source": [
    "# centralidade generalizada\n",
    "\n",
    "n = KCG.number_of_nodes()\n",
    "\n",
    "# valores de p\n",
    "# linspace is an in-built function in Python's NumPy library. \n",
    "# It is used to create an evenly spaced sequence in a specified interval.\n",
    "p = np.linspace(-1,1,n)\n",
    "\n",
    "# comprimento dos caminhos mais curtos desde nó 1\n",
    "sp = np.array(list(nx.shortest_path_length(KCG,1).values()))\n",
    "\n",
    "# centralidade generalizada para o nó 1\n",
    "cp = np.zeros(n)\n",
    "for k in range(n):\n",
    "    if p[k]:\n",
    "        cp[k] = np.mean(sp[1:]** p[k])**(-1.0/p[k])\n",
    "    else :\n",
    "        cp[k] = np.prod(sp[1:])**(-1.0/(n - 1))"
   ]
  },
  {
   "cell_type": "code",
   "execution_count": null,
   "metadata": {},
   "outputs": [],
   "source": [
    "print(nx.shortest_path(KCG,1))"
   ]
  },
  {
   "cell_type": "code",
   "execution_count": null,
   "metadata": {},
   "outputs": [],
   "source": [
    "print(nx.shortest_path_length(KCG,1))"
   ]
  },
  {
   "cell_type": "code",
   "execution_count": null,
   "metadata": {},
   "outputs": [],
   "source": [
    "#for i in range(len(cp)):\n",
    "#    print(f\"cp node {i} :  {cp[i]}\")"
   ]
  },
  {
   "cell_type": "code",
   "execution_count": null,
   "metadata": {},
   "outputs": [],
   "source": [
    "set_cp = set(cp)\n",
    "#print(\"set_cp: \", set_cp)\n",
    "\n",
    "for i in set_cp:\n",
    "    print(i, end= \" : \")\n",
    "    for key in range(len(cp)):\n",
    "        if i == cp[key]:\n",
    "            print(key, end=\", \")\n",
    "    print()"
   ]
  },
  {
   "cell_type": "code",
   "execution_count": null,
   "metadata": {},
   "outputs": [],
   "source": [
    "# centralidade generalizada\n",
    "\n",
    "fig, ax = plt.subplots(1,1,figsize=(15,10))\n",
    "\n",
    "# rede\n",
    "G = KCG\n",
    "\n",
    "# layout position\n",
    "pos = nx.kamada_kawai_layout(G)\n",
    "\n",
    "# color of nodes\n",
    "color = cp\n",
    "\n",
    "# draw edges\n",
    "nx.draw_networkx_edges(G, \n",
    "                       pos=pos, \n",
    "                       alpha=0.4, \n",
    "                       ax=ax)\n",
    "\n",
    "# draw nodes\n",
    "nodes = nx.draw_networkx_nodes(G, \n",
    "                               pos=pos, \n",
    "                               node_size=800,\n",
    "                               node_color=color,\n",
    "                               cmap=plt.cm.jet,\n",
    "                               ax=ax)\n",
    "\n",
    "# draw labels\n",
    "nx.draw_networkx_labels(G, \n",
    "                        pos=pos,\n",
    "                        font_color='white', \n",
    "                        ax=ax)\n",
    "\n",
    "plt.axis(\"off\")\n",
    "plt.colorbar(nodes)\n",
    "plt.show()"
   ]
  },
  {
   "cell_type": "markdown",
   "metadata": {},
   "source": [
    "### Centralidade de intermediação\n",
    "\n",
    "- A **centralidade de intermediação** quantifica o quanto os vértices são capazes de atuar como intermediários entre outros dois vértices, podendo portanto controlar o fluxo de informação entre eles.\n",
    "\n",
    "- $Q_{j,k}$: número de caminhos geodésicos iniciando no vértice $j$ e terminando no vértice $k$.\n",
    "\n",
    "- $Q_{j,k}(i)$: número de caminhos geodésicos que iniciam em $j$, terminam em $k$ e passam pelo vértice $i$.\n",
    "\n",
    "- $\\dfrac{Q_{j,k}(i)}{Q_{j,k}}$: determina a importância do vértice $i$ para a conexão entre $j$ e $k$. Quanto maioro valor, maior é a importância do vértice $i$ para a conexão entre $j$ e $k$.\n",
    "\n",
    "- Fórmula da centralidade por intermediação\n",
    "\n",
    "$$\n",
    "C_{b}(i) = \\dfrac{1}{(n-1)(n-2)} \\left[ \\sum_{(j,k):j\\not=k, i \\not\\in \\{ j,k\\}} \\dfrac{Q_{j,k}(i)}{Q_{j,k}} \\right] \\; \\forall \\; i \\in V\n",
    "$$\n",
    "\n",
    "- Função do networkx: **nx.betweenness_centrality()**"
   ]
  },
  {
   "cell_type": "code",
   "execution_count": null,
   "metadata": {},
   "outputs": [],
   "source": [
    "# calculo da centralidade de intermediação \n",
    "\n",
    "dic_cb = nx.betweenness_centrality(g, normalized=True)\n",
    "val_cb = list(nx.betweenness_centrality(KCG, normalized=True).values())\n",
    "\n",
    "set_cb = set(dic_cb.values())\n",
    "print(\"set_cb: \", set_cb)\n",
    "\n",
    "for i in set_cb:\n",
    "    print(i, end= \" : \")\n",
    "    for key, value in dic_cb.items():\n",
    "        if i == dic_cb[key]:\n",
    "            print(key, end=\", \")\n",
    "    print()\n",
    "\n",
    "#for key, value in dic_cb.items():\n",
    "#    print(f\"centralidade de intermediação do v{key} : {value}\")"
   ]
  },
  {
   "cell_type": "code",
   "execution_count": null,
   "metadata": {},
   "outputs": [],
   "source": [
    "# rank em relacao a centralidade de autovetor\n",
    "\n",
    "ranks = [(k, v) for k, v in sorted(dic_cb.items(), key=lambda item: -item[1])]\n",
    "\n",
    "# os k melhores\n",
    "k = 14\n",
    "ranks[0:k]"
   ]
  },
  {
   "cell_type": "code",
   "execution_count": null,
   "metadata": {},
   "outputs": [],
   "source": [
    "# grau x centralidade de intermediacao\n",
    "\n",
    "fig, ax = plt.subplots(1,1,figsize=(12,8))\n",
    "plt.plot(val_grau, val_cb, 'o')\n",
    "plt.xlabel('grau')\n",
    "plt.ylabel('centralidade de intermediação')\n",
    "plt.show()"
   ]
  },
  {
   "cell_type": "code",
   "execution_count": null,
   "metadata": {},
   "outputs": [],
   "source": [
    "# gráfico da centralidade de intermediação \n",
    "\n",
    "G = KCG\n",
    "\n",
    "fig, ax = plt.subplots(1,1,figsize=(12,8))\n",
    "\n",
    "# layout position\n",
    "pos = nx.kamada_kawai_layout(G)\n",
    "\n",
    "# color of nodes\n",
    "color = list(val_cb)\n",
    "\n",
    "# draw edges\n",
    "nx.draw_networkx_edges(G, \n",
    "                       pos=pos, \n",
    "                       alpha=0.4, \n",
    "                       ax=ax)\n",
    "\n",
    "# draw nodes\n",
    "nodes = nx.draw_networkx_nodes(G,\n",
    "                               node_size=800,\n",
    "                               pos=pos,\n",
    "                               node_color=color,\n",
    "                               cmap=plt.cm.jet,\n",
    "                               ax=ax)\n",
    "\n",
    "# draw labels\n",
    "nx.draw_networkx_labels(G, \n",
    "                        pos=pos, \n",
    "                        font_color='white', \n",
    "                        ax=ax)\n",
    "\n",
    "plt.axis(\"off\")\n",
    "plt.colorbar(nodes)\n",
    "plt.show()"
   ]
  },
  {
   "cell_type": "markdown",
   "metadata": {},
   "source": [
    "### Centralidade de Autovetor\n",
    "\n",
    "- A centralidade de autovetor é uma medida que leva em conta não somente a quantidade de vizinhos que um vértice possui, mas também a importância destes vizinhos.\n",
    "\n",
    "- Seja $C_{eg}^{0} = ( C_{eg}^{0}(1), C_{eg}^{0}(2), \\ldots, C_{eg}^{0}(n) )$ um vetor não negativo com valor inicial associado a importância de cada nó na rede.\n",
    "\n",
    "- Podemos atualizar a importância do nó $i$ da rede, somando a importância dos seus vizinhos, ou seja,\n",
    "$\n",
    "C_{eg}^{1} (i) = \\sum_{j=1}^{n} A(i,j) C_{eg}^{0}(j).\n",
    "$\n",
    "\n",
    "- Temos que $C_{eg}^{1} = A C_{eg}^{0}$, e repetindo $x$ vezes temos $C_{eg}^{x} = A^{x} C_{eg}^{0}$.\n",
    "\n",
    "- Considere $C_{eq}^{0} = \\sum_{i=1}^{n} b_i v_i$, onde $v_i$ é o autovetor $i$ da matriz $A$. Temos\n",
    "\\begin{align*}\n",
    "C_{eg}^{x} & = A^{x} \\sum_{i} b_{i} v_{i} \\\\\n",
    "& = \\sum_{i} b_i A^{x} v_i \\\\\n",
    "& = \\sum_{i} b_i (\\lambda_i)^{x} v_{i} \\\\\n",
    "& = (\\lambda_{1})^{x} \\sum_{i} b_i \\left( \\dfrac{\\lambda_{i}}{\\lambda_{1}} \\right)^{x} v_{i}\n",
    "\\end{align*}\n",
    "onde $\\lambda_1 = \\max_{i} { |\\lambda_{i}|}$ \n",
    "\n",
    "- A centralidade de autovetor pode ser definida como um vetor que satisfaz $AC_{eg} = \\lambda_{1} C_{eg}$.\n",
    "\n",
    "- Temos que $C_{eg}(i) = \\dfrac{1}{\\lambda_{1}} \\sum_{j=1}^{n} A(i,j) C_{eg} (j)$ para cada nó $i$ da rede.\n",
    "\n",
    "- **nx.eigenvector_centrality_numpy()**: função do **networkx** que retorna a centralidade de autovetor dos nós de uma rede.\n"
   ]
  },
  {
   "cell_type": "code",
   "execution_count": null,
   "metadata": {},
   "outputs": [],
   "source": [
    "# calculo da centralidade de autovetor\n",
    "\n",
    "dic_cev = nx.eigenvector_centrality_numpy(KCG)\n",
    "val_cev = list(dic_cev.values())\n",
    "\n",
    "set_cev = set(dic_cev.values())\n",
    "print(\"set_cev: \", set_cev)\n",
    "\n",
    "for i in set_cev:\n",
    "    tmp = []\n",
    "    for key, value in dic_cev.items():\n",
    "        if i == dic_cev[key]:\n",
    "            tmp.append(key)\n",
    "    print(i, \"=\", set(tmp))"
   ]
  },
  {
   "cell_type": "code",
   "execution_count": null,
   "metadata": {},
   "outputs": [],
   "source": [
    "# imprime centralidade de autovetor\n",
    "\n",
    "#for k, val in dic_cev.items():\n",
    "#    print(f\"centralidade do autovetor do v{k}: {val}\")"
   ]
  },
  {
   "cell_type": "code",
   "execution_count": null,
   "metadata": {},
   "outputs": [],
   "source": [
    "# rank em relacao a centralidade de autovetor\n",
    "\n",
    "ranks = [(k, v) for k, v in sorted(dic_cev.items(), key=lambda item: -item[1])]\n",
    "\n",
    "# os k melhores\n",
    "k = 14\n",
    "ranks[0:k]"
   ]
  },
  {
   "cell_type": "code",
   "execution_count": null,
   "metadata": {},
   "outputs": [],
   "source": [
    "# gráfico da centralidade de autovetor\n",
    "\n",
    "G = KCG\n",
    "\n",
    "fig, ax = plt.subplots(1,1,figsize=(12,8))\n",
    "\n",
    "# layout position\n",
    "pos = nx.kamada_kawai_layout(G)\n",
    "\n",
    "# color of nodes\n",
    "color = list(val_cev)\n",
    "\n",
    "# draw edges\n",
    "nx.draw_networkx_edges(G, \n",
    "                       pos=pos, \n",
    "                       alpha=0.4, \n",
    "                       ax=ax)\n",
    "\n",
    "# draw nodes\n",
    "nodes = nx.draw_networkx_nodes(G,\n",
    "                               node_size=800,\n",
    "                               pos=pos,\n",
    "                               node_color=color,\n",
    "                               cmap=plt.cm.jet,\n",
    "                               ax=ax)\n",
    "\n",
    "# draw labels\n",
    "nx.draw_networkx_labels(G, \n",
    "                        pos=pos, \n",
    "                        font_color='white', \n",
    "                        ax=ax)\n",
    "\n",
    "plt.axis(\"off\")\n",
    "plt.colorbar(nodes)\n",
    "plt.show()"
   ]
  },
  {
   "cell_type": "code",
   "execution_count": null,
   "metadata": {},
   "outputs": [],
   "source": [
    "# graus x centralidade de autovetor\n",
    "\n",
    "fig, ax = plt.subplots(1,1,figsize=(12,8))\n",
    "plt.plot(val_grau, val_cev, 'o')\n",
    "#plt.plot(nodes_, val_cev, 'o')\n",
    "plt.xlabel('grau')\n",
    "plt.ylabel('centralidade de autovetor')\n",
    "plt.show()"
   ]
  },
  {
   "cell_type": "markdown",
   "metadata": {},
   "source": [
    "### Centralidade de Katz\n",
    "\n",
    "- Na **centralidade de Katz** é adicionado um valor de centralidade para todos os nós da rede, usando a fórmula\n",
    "\n",
    "$$\n",
    "C_K(i)=\\alpha\\sum_{j\\ne i} A(i,j)C_K(j) +\\beta,\n",
    "$$\n",
    "onde $\\alpha$ e $\\beta$ são constantes positivas. \n",
    "\n",
    "- $\\beta$ é o valor de centralidade que os nós de grau nulo possuem e $\\alpha< 1/\\lambda_1$ em que $\\lambda_1$ é o maior autovalor de $A$. \n",
    "\n",
    "e\n",
    "$$\n",
    "C_K=\\beta(I-\\alpha A)^{-1}\\overline{1}\n",
    "$$\n",
    "\n",
    "- **nx.katz_centrality_numpy()**: função do **networkx** que retorna a **centralidade de Katz** dos nós de uma rede."
   ]
  },
  {
   "cell_type": "code",
   "execution_count": null,
   "metadata": {},
   "outputs": [],
   "source": [
    "# calculo da centralidade de Katz\n",
    "\n",
    "G = KCG\n",
    "\n",
    "dic_ck1 = nx.katz_centrality_numpy(G, alpha=0.08, beta=1)\n",
    "dic_ck2 = nx.katz_centrality_numpy(G, alpha=0.01, beta=1)\n",
    "dic_ck3 = nx.katz_centrality_numpy(G, alpha=0.08, beta=2)\n",
    "\n",
    "val_ck1 = nx.katz_centrality_numpy(G, alpha=0.08, beta=1).values()\n",
    "val_ck2 = nx.katz_centrality_numpy(G, alpha=0.01, beta=1).values()\n",
    "val_ck3 = nx.katz_centrality_numpy(G, alpha=0.08, beta=2).values()"
   ]
  },
  {
   "cell_type": "code",
   "execution_count": null,
   "metadata": {},
   "outputs": [],
   "source": [
    "val_ck1 = list(val_ck1)\n",
    "val_ck2 = list(val_ck2)\n",
    "val_ck3 = list(val_ck3)"
   ]
  },
  {
   "cell_type": "code",
   "execution_count": null,
   "metadata": {},
   "outputs": [],
   "source": [
    "#for k, val in dic_ck1.items():\n",
    "#    print(f\"centralidade de katz do no {k} : {val}\")"
   ]
  },
  {
   "cell_type": "code",
   "execution_count": null,
   "metadata": {},
   "outputs": [],
   "source": [
    "# rank em relacao a centralidade de katz\n",
    "\n",
    "ranks = [(k, v) for k, v in sorted(dic_ck1.items(), key=lambda item: -item[1])]\n",
    "\n",
    "# os k melhores\n",
    "k = 14\n",
    "ranks[0:k]"
   ]
  },
  {
   "cell_type": "code",
   "execution_count": null,
   "metadata": {},
   "outputs": [],
   "source": [
    "# grau x centralidade ck\n",
    "\n",
    "ck = val_ck1\n",
    "\n",
    "fig, ax = plt.subplots(1,1,figsize=(12,8))\n",
    "plt.plot(val_grau, ck, 'o')\n",
    "plt.xlabel('grau')\n",
    "plt.ylabel('centralidade ck')\n",
    "plt.show()"
   ]
  },
  {
   "cell_type": "code",
   "execution_count": null,
   "metadata": {},
   "outputs": [],
   "source": [
    "# centralidade de katz do BTG\n",
    "\n",
    "G = KCG\n",
    "\n",
    "# katz\n",
    "ck = val_ck1\n",
    "\n",
    "fig, ax = plt.subplots(1,1,figsize=(15,10))\n",
    "\n",
    "# layout position\n",
    "pos = nx.kamada_kawai_layout(G)\n",
    "\n",
    "# color of nodes\n",
    "color = ck\n",
    "\n",
    "# draw edges\n",
    "nx.draw_networkx_edges(G, \n",
    "                       pos=pos, \n",
    "                       alpha=0.4, \n",
    "                       ax=ax)\n",
    "\n",
    "# draw nodes\n",
    "nodes = nx.draw_networkx_nodes(G, \n",
    "                               pos=pos, \n",
    "                               node_size=800,\n",
    "                               node_color=color,\n",
    "                               cmap=plt.cm.jet,\n",
    "                               ax=ax)\n",
    "\n",
    "# draw labels\n",
    "nx.draw_networkx_labels(G, \n",
    "                        pos=pos,\n",
    "                        font_color='white', \n",
    "                        ax=ax)\n",
    "\n",
    "plt.axis(\"off\")\n",
    "plt.colorbar(nodes)\n",
    "plt.show()"
   ]
  },
  {
   "cell_type": "markdown",
   "metadata": {},
   "source": [
    "### PageRank\n",
    "\n",
    "- O **pagerank** assume que a importância de um nó é dividida igualmente entre os seus vizinhos e tem a fórmula\n",
    "$$\n",
    "C_{PR}(i)=(1-\\alpha)+\\alpha\\sum_{j\\ne i}\\frac{A(j,i)C_{PR}(j)}{d^{out}(j)},\n",
    "$$\n",
    "em que $\\alpha\\in (0,1)$. \n",
    "\n",
    "- O valor $\\alpha$ pode ser pensado como a probabilidade de um usuário continuar navegando entre páginas através dos links. \n",
    "\n",
    "- Para um vértice $j$ com $d^{out}(j) = 0$, como $j$ não contribui para a importância de nenhum outro nó, adota-se a convenção de que $d^{out}(j) = 1$ na fórmula acima.\n",
    "\n",
    "- Em termos matriciais, temos:\n",
    "$$\n",
    "C_{PR}^T=(1-\\alpha)\\overline{1}^T+\\alpha C_{PR}^T DA ,\n",
    "$$\n",
    "onde $D$ é uma matriz diagonal tal que $D(i,i)=\\min(\\frac{1}{d^{out}(i)},1)$. \n",
    "\n",
    "- Portanto,\n",
    "$$\n",
    "C_{PR}^T=(1-\\alpha)\\overline{1}^T(I-\\alpha DA)^{-1}.\n",
    "$$\n",
    "\n",
    "- No **networkx**, os valores dos **pagerank** são normalizados para que a soma deles dê igual a 1."
   ]
  },
  {
   "cell_type": "code",
   "execution_count": null,
   "metadata": {},
   "outputs": [],
   "source": [
    "# calculo da centralidade de PageRank variando valor de \\alpha\n",
    "\n",
    "G = KCG\n",
    "\n",
    "dic_cpr1 = nx.pagerank(G, alpha=0.85)\n",
    "dic_cpr2 = nx.pagerank(G, alpha=0.65)\n",
    "dic_cpr3 = nx.pagerank(G, alpha=0.25)\n",
    "\n",
    "val_cpr1 = nx.pagerank(G, alpha=0.85).values()\n",
    "val_cpr2 = nx.pagerank(G, alpha=0.65).values()\n",
    "val_cpr3 = nx.pagerank(G, alpha=0.25).values()"
   ]
  },
  {
   "cell_type": "code",
   "execution_count": null,
   "metadata": {},
   "outputs": [],
   "source": [
    "# os valores dos **pagerank** são normalizados para que a soma deles dê igual a 1\n",
    "\n",
    "print(f\"soma pageranks = {np.sum(list(val_cpr1))}\")"
   ]
  },
  {
   "cell_type": "code",
   "execution_count": null,
   "metadata": {},
   "outputs": [],
   "source": [
    "# grau x page rank\n",
    "\n",
    "fig, ax = plt.subplots(1,1,figsize=(12,8))\n",
    "plt.plot(val_grau, val_cpr1, 'o')\n",
    "plt.xlabel('grau')\n",
    "plt.ylabel('centralidade cpr1')\n",
    "plt.show()"
   ]
  },
  {
   "cell_type": "code",
   "execution_count": null,
   "metadata": {},
   "outputs": [],
   "source": [
    "# grau x page rank\n",
    "\n",
    "fig, ax = plt.subplots(1,1,figsize=(12,8))\n",
    "plt.plot(val_grau, val_cpr2, 'o')\n",
    "plt.xlabel('grau')\n",
    "plt.ylabel('centralidade cpr2')\n",
    "plt.show()"
   ]
  },
  {
   "cell_type": "code",
   "execution_count": null,
   "metadata": {},
   "outputs": [],
   "source": [
    "# grau x page rank\n",
    "\n",
    "fig, ax = plt.subplots(1,1,figsize=(12,8))\n",
    "plt.plot(val_grau, val_cpr3, 'o')\n",
    "plt.xlabel('grau')\n",
    "plt.ylabel('centralidade cpr3')\n",
    "plt.show()"
   ]
  },
  {
   "cell_type": "markdown",
   "metadata": {},
   "source": [
    "### Coeficiente de agrupamento local\n",
    "\n",
    "- Permite avaliar o quanto os nós são capazes de proporcionar interação entre os seus vizinhos. \n",
    "\n",
    "- O coeficiente de agrupamento local de um nó $i$ é dado por:\n",
    "\n",
    "$$\n",
    "cl(i)=\\frac{\\sum\\limits_{(j,k):j\\ne i,k\\ne i,k\\ne j}A(i,j)A(i,k)A(j,k)}{\\sum\\limits_{(j,k):j\\ne i,k\\ne i,k\\ne j}A(i,j)A(i,k)}.\n",
    "$$\n",
    "\n",
    "- Vértices que possuem grau 0 ou 1 possuem coeficiente de agrupamento local nulo. \n",
    "\n",
    "- Pode-se definir o coeficiente de agrupamento local médio:\n",
    "\n",
    "$$\n",
    "\\overline{cl}(G)=\\frac{1}{n}\\sum\\limits_{i=1}^ncl(i).\n",
    "$$\n",
    "\n",
    "- **nx.clustering()**: função do **networkx** que retorna o coeficiente de agrupamento local.\n",
    "\n",
    "- **nx.average_clustering()**: função do **networkx** que retorna o coeficiente de agrupamento médio.\n",
    "\n",
    "- **nx.transitivity()**: função do **networkx** que retorna o coeficiente de agrupamento total."
   ]
  },
  {
   "cell_type": "code",
   "execution_count": null,
   "metadata": {},
   "outputs": [],
   "source": [
    "# coeficiente de agrupamento local\n",
    "\n",
    "# network\n",
    "G = KCG\n",
    "\n",
    "dic_cal = nx.clustering(G)\n",
    "val_cal = list(nx.clustering(G).values())\n",
    "\n",
    "#for k, val in dic_cal.items():\n",
    "#    print(f\"coefiente de agrupamento local do node {k} : {val}\")\n",
    "\n",
    "ranks = [(k, v) for k, v in sorted(dic_cal.items(), key=lambda item: -item[1])]\n",
    "\n",
    "# k melhores\n",
    "k = 14\n",
    "ranks[0:k]"
   ]
  },
  {
   "cell_type": "code",
   "execution_count": null,
   "metadata": {},
   "outputs": [],
   "source": [
    "# conjuntos associados ao clustering\n",
    "\n",
    "set_cal = set(dic_cal.values())\n",
    "print(set_cal)\n",
    "\n",
    "for i in set_cal:\n",
    "    tmp = []\n",
    "    for key, value in dic_cal.items():\n",
    "        if i == dic_cal[key]:\n",
    "            tmp.append(key)\n",
    "    print(i, \"=\", set(tmp))"
   ]
  },
  {
   "cell_type": "code",
   "execution_count": null,
   "metadata": {},
   "outputs": [],
   "source": [
    "# grafico coeficiente de agrupamento local\n",
    "\n",
    "# rede\n",
    "G = KCG\n",
    "\n",
    "fig, ax = plt.subplots(1,1,figsize=(15,10))\n",
    "\n",
    "# layout position\n",
    "pos = nx.kamada_kawai_layout(G)\n",
    "\n",
    "# color of nodes\n",
    "color = val_cal\n",
    "\n",
    "# draw edges\n",
    "nx.draw_networkx_edges(G, \n",
    "                       pos=pos, \n",
    "                       alpha=0.4, \n",
    "                       ax=ax)\n",
    "\n",
    "# draw nodes\n",
    "nodes = nx.draw_networkx_nodes(G, \n",
    "                               pos=pos, \n",
    "                               node_size=800,\n",
    "                               node_color=color,\n",
    "                               cmap=plt.cm.jet,\n",
    "                               ax=ax)\n",
    "\n",
    "# draw labels\n",
    "nx.draw_networkx_labels(G, \n",
    "                        pos=pos,\n",
    "                        font_color='white', \n",
    "                        ax=ax)\n",
    "\n",
    "plt.axis(\"off\")\n",
    "plt.colorbar(nodes)\n",
    "plt.show()"
   ]
  },
  {
   "cell_type": "code",
   "execution_count": null,
   "metadata": {},
   "outputs": [],
   "source": [
    "# coeficiente de agrupamento médio\n",
    "\n",
    "G = KCG\n",
    "\n",
    "cam = nx.average_clustering(G)\n",
    "\n",
    "print(f\"coeficiente de agrupamento médio da rede = {cam}\")"
   ]
  },
  {
   "cell_type": "code",
   "execution_count": null,
   "metadata": {},
   "outputs": [],
   "source": [
    "# coeficiente de agrupamento total\n",
    "\n",
    "G = KCG\n",
    "\n",
    "cat = nx.transitivity(G)\n",
    "\n",
    "print(f\"coeficiente de agrupamento total da rede = {cat}\")"
   ]
  },
  {
   "cell_type": "markdown",
   "metadata": {},
   "source": [
    "### Homofilia\n",
    "\n",
    "- Uma das informações importantes em redes complexas é saber se os nós possuem alguma tendência se ligar mais a nós similares a si mesmo, o que é conhecido como homofilia ou associatividade. \n",
    "\n",
    "- Considere um grafo particionado em grupos $\\{V^1,V^2,\\ldots,V^a\\}$ de acordo com atributos que esses nós possuam. \n",
    "\n",
    "- O índice EI mede a homofilia através de uma razão que envolve a quantidade de ligações entre nós de grupos distintos ($EL$) e a quantidade de ligações entre nós do mesmo grupo ($IL$). \n",
    "\n",
    "- O índice EI pode ser calculado para um subconjunto qualquer de nós da rede.\n",
    "\n",
    "- Dada a partição dos nós, defina uma função indicadora $\\delta: V\\times V\\rightarrow \\{0,1\\}$\n",
    "$$\n",
    "\\delta(i,j)=\n",
    "\\begin{cases}\n",
    "1, & \\text{ se existe } k \\text{ tal  que } i,j \\in V^k,\\\\\n",
    "0, & \\text{ caso contrário.}\n",
    "\\end{cases}\n",
    "$$\n",
    "\n",
    "- Seja $V'\\subseteq V$, então podemos encontrar o número de ligações internas e externas envolvendo os nós em $V'$, respectivamente, por\n",
    "\n",
    "$$\n",
    "IL(V')=\\sum_{i\\in V'}\\sum_{j\\notin V' \\; ou \\; j>i}A(i,j)\\delta(i,j)\n",
    "$$\n",
    "e\n",
    "$$\n",
    "EL(V')=\\sum_{i\\in V'}\\sum_{j\\notin V' \\; ou \\; j>i}A(i,j)(1-\\delta(i,j))\n",
    "$$\n",
    "\n",
    "\n",
    "$$\n",
    "EI(V')=\\frac{EL(V')-IL(V')}{EL(V')+IL(V')}\n",
    "$$\n",
    "\n",
    "- O valor do índice EI varia no intervalo $[-1,1]$, em que um índice EI igual a -1 (resp., 1) indica um subconjunto de nós que só possui ligações internas (resp., externas)."
   ]
  },
  {
   "cell_type": "markdown",
   "metadata": {},
   "source": [
    "### Três tipos de assortatividade: \n",
    "\n",
    "- Os nós estão particionados em uma quantidade finita de grupos de atributos. \n",
    "\n",
    "- Os atributos dos nós são caracterizados por valores escalares, tais como idade, PIB, índice h, etc. \n",
    "\n",
    "- O atributo utilizado para avaliar a homofilia é a própria centralidade de grau dos nós.\n"
   ]
  },
  {
   "cell_type": "markdown",
   "metadata": {},
   "source": [
    "### Assortatividade - Atributos Categóricos\n",
    "\n",
    "- Considere um conjunto V de vértices de um grafo possa ser particionado em grupos $\\{V^1, V^2, \\ldots, V^a\\}$.\n",
    "\n",
    "- A fração de arestas que ligam um nó no conjunto $V^i$ a um nó no conjunto $V^j$:\n",
    "$$\n",
    "e_{ij}=\\frac{1}{c}\\sum_{k_1\\in V^i}\\sum_{k_2\\in V^j}A(k_1,k_2),\n",
    "$$\n",
    "em que $c=m$ ou $c=2m$ se a rede é direcionada ou não-direcionada, respectivamente.\n",
    "\n",
    "- A fração de arestas que iniciam (resp., terminam) em vértices do conjunto $V_i$ é dada, respetivamente, por $a_i=\\sum_j e_{ij}$, $b_i=\\sum_j e_{ji}$.\n",
    "\n",
    "-  Em redes não direcionadas, temos que $e_{ij}=e_{ji}$ e $a_i=b_i$. \n",
    "\n",
    "- Se as ligações da rede fossem formadas aleatoriamente mantidas as frequências das arestas incidentes em nós de cada grupo, a fração esperada de ligação entre nós pertencentes a um grupo $V^i$ seria igual a $a_ib_i$.\n",
    "\n",
    "- O coeficiente de assortatividade é dado por:\n",
    "$$\n",
    "As^c(G)=\\frac{\\sum_{i=1}^ae_{ii}-\\sum_{i=1}^{a}a_ib_i}{1-\\sum_{i=1}^{a}a_ib_i},\n",
    "$$"
   ]
  },
  {
   "cell_type": "markdown",
   "metadata": {},
   "source": [
    "### Assortatividade - Atributos Escalares\n",
    "\n",
    "- Seja $x_i$ o atributo escalar do no $i$. Então, como o nó $i$ possui $d(i)$ arestas ligadas a ele, o valor médio dos atributos escalares ao longo das arestas é dado por:\n",
    "$$\n",
    "\\overline{x}=\\frac{\\sum_i d(i)x_i}{\\sum_i d(i)}=\\frac{1}{2m}\\sum_i d(i)x_i.\n",
    "$$\n",
    "\n",
    "- A covariância ao longo das arestas dos atributos de suas extremidades é:\n",
    "$$\n",
    "\\frac{\\sum_{ij}A(i,j)(x_i-\\overline{x})(x_j-\\overline{x})}{\\sum_{ij}A(i,j)} = \\frac{1}{2m}\\left(\\sum_{ij}A(i,j)x_ix_j\\right) - \\overline{x}^2 =\n",
    "\\frac{1}{2m}\\left[\\sum_{ij}\\left(A(i,j) - \\frac{d(i)d(j)}{2m}\\right)x_ix_j\\right].\n",
    "$$\n",
    "\n",
    "- Para garantir que a rede com homofilia perfeita em que só existam ligações entre nós com exatamente o mesmo atributo escalar tenha coeficiente de assortatividade igual a 1, a covariância é normalizada dividindo pelo seu maior valor possível.\n",
    "\n",
    "- O coeficiente de assortatividade para atributos escalares é calculado como o coeficiente de correlação de Pearson.\n",
    "\n",
    "- O coeficiente de assortatividade é:\n",
    "$$\n",
    "As^e(G) = \n",
    "\\frac{\\frac{1}{2m}\\sum_{ij}\\left(A(i,j)x_ix_j\\right) -  \\overline{x}^2}{\\frac{1}{2m}\\sum_{ij}\\left(A(i,j)x_i^2\\right) -  \\overline{x}^2}\\nonumber = \n",
    "\\frac{\\sum_{ij}\\left(A(i,j) - \\frac{d(i)d(j)}{2m}\\right)x_ix_j}{\\sum_{i}d(i)x_i^2 - \\frac{1}{2m}\\left(\\sum_i d(i)x_i\\right)^2}\n",
    "$$"
   ]
  },
  {
   "cell_type": "markdown",
   "metadata": {},
   "source": [
    "### Assortatividade de grau\n",
    "\n",
    "- Um caso especial de assortatividade com atributo escalar que é bastante utilizado é quando o atributo escalar é a própria centralidade de grau, ou seja, $x_i=d(i)$.\n",
    "\n",
    "- Esta assortatividade mede se na rede existe uma tendência de nós muito conectados estarem conectados entre si e nós pouco conectados estarem ligados entre si."
   ]
  },
  {
   "cell_type": "markdown",
   "metadata": {},
   "source": [
    "### Funções do networkX\n",
    "\n",
    "- **nx.attribute_assortativity_coefficient**: retorna a assortatividade relacionada com atributos categóricos.\n",
    "\n",
    "- **nx.numeric_assortativity_coefficient()**: retorna a assortatividade relacionada com atributos numéricos. \n",
    "\n",
    "- **nx.degree_assortativity_coefficient()**: retorna a assortatividade para o atributo igual ao grau. "
   ]
  },
  {
   "cell_type": "markdown",
   "metadata": {},
   "source": [
    "**Exemplo**\n",
    "\n",
    "Considere o exemplo da rede dos personagens do segundo livro da saga de Harry Potter.\n",
    "\n",
    "As ligações nessa rede representam suporte emocional e, portanto, trata-se de uma rede direcionada com matriz de adjacência não simétrica."
   ]
  },
  {
   "cell_type": "code",
   "execution_count": null,
   "metadata": {},
   "outputs": [],
   "source": [
    "def carregarlivro(livro):\n",
    "    atri = pd.read_csv('data/harrypotter/hpattributes.txt', sep='\\t')\n",
    "    livros = pd.read_csv('data/harrypotter/hpbook{:1d}.txt'.format(livro), sep=' ', header=None)\n",
    "    nome = pd.read_csv('data/harrypotter/hpnames.txt', sep='\\t')\n",
    "\n",
    "    DG = nx.DiGraph()\n",
    "    \n",
    "    ni = atri.shape[0]\n",
    "\n",
    "    # add nodes\n",
    "    for k in range(ni):\n",
    "        DG.add_node(\n",
    "            k,\n",
    "            nome = nome['name'][k], \n",
    "            ano = atri['schoolyear'][k], \n",
    "            gen = atri['gender'][k], \n",
    "            casa = atri['house'][k])\n",
    "    \n",
    "    # add arestas\n",
    "    for k in range(ni):\n",
    "        for m in range(ni):\n",
    "            if livros.values[k][m] == 1:\n",
    "                DG.add_edge(k,m)\n",
    "\n",
    "    gen_ = nx.attribute_assortativity_coefficient(DG, \"gen\")\n",
    "    casa_ = nx.attribute_assortativity_coefficient(DG, \"casa\")\n",
    "    ano_ = nx.numeric_assortativity_coefficient(DG.to_undirected(), \"ano\")\n",
    "    grau_ = nx.degree_assortativity_coefficient(DG.to_undirected(), \"grau\")\n",
    "\n",
    "    return gen_, casa_, ano_, grau_, DG"
   ]
  },
  {
   "cell_type": "code",
   "execution_count": null,
   "metadata": {},
   "outputs": [],
   "source": [
    "livros = list(range(1,7))\n",
    "\n",
    "nl = len(livros)\n",
    "gen_ = np.zeros(nl)\n",
    "casa_ = np.zeros(nl)\n",
    "ano_ = np.zeros(nl)\n",
    "grau_ = np.zeros(nl)\n",
    "\n",
    "for k in range(nl):\n",
    "    #print(\"livro \", k, end = \": \")\n",
    "    gen_[k], casa_[k], ano_[k], grau_[k], G = carregarlivro(livros[k])\n",
    "    #print(f\"gen = {gen_[k]}; casa = {casa_[k]}; ano = {ano_[k]}; grau = {grau_[k]}\")"
   ]
  },
  {
   "cell_type": "code",
   "execution_count": null,
   "metadata": {},
   "outputs": [],
   "source": [
    "print(\"genero:\")\n",
    "for k in range(nl):\n",
    "    print(f\"(l{k}) {gen_[k]};\", end = \" \")"
   ]
  },
  {
   "cell_type": "code",
   "execution_count": null,
   "metadata": {},
   "outputs": [],
   "source": [
    "print(\"casa:\")\n",
    "for k in range(nl):\n",
    "    print(f\"(c{k}) {casa_[k]};\", end = \" \")"
   ]
  },
  {
   "cell_type": "code",
   "execution_count": null,
   "metadata": {},
   "outputs": [],
   "source": [
    "print(\"ano:\")\n",
    "for k in range(nl):\n",
    "    print(f\"(a{k}) {ano_[k]};\", end = \" \")"
   ]
  },
  {
   "cell_type": "code",
   "execution_count": null,
   "metadata": {},
   "outputs": [],
   "source": [
    "print(\"grau:\")\n",
    "for k in range(nl):\n",
    "    print(f\"(g{k}) {grau_[k]};\", end = \" \") "
   ]
  },
  {
   "cell_type": "code",
   "execution_count": null,
   "metadata": {},
   "outputs": [],
   "source": [
    "livros = list(range(1,7))\n",
    "\n",
    "nl = len(livros)\n",
    "gen_ = np.zeros(nl)\n",
    "casa_ = np.zeros(nl)\n",
    "ano_ = np.zeros(nl)\n",
    "grau_ = np.zeros(nl)\n",
    "\n",
    "for k in range(nl):\n",
    "    #print(\"livro \", k, end = \": \")\n",
    "    gen_[k], casa_[k], ano_[k], grau_[k], G = carregarlivro(livros[k])\n",
    "    #print(f\"gen = {gen_[k]}; casa = {casa_[k]}; ano = {ano_[k]}; grau = {grau_[k]}\")"
   ]
  },
  {
   "cell_type": "code",
   "execution_count": null,
   "metadata": {},
   "outputs": [],
   "source": [
    "fig = plt.subplots(1,1,figsize=(15,10))\n",
    "\n",
    "plt.plot(livros, gen_, '-o', label = 'genero')\n",
    "plt.plot(livros, casa_, '-s', label = 'casa')\n",
    "plt.plot(livros, ano_, '-*', label = 'ano')\n",
    "plt.plot(livros, grau_, '-^', label = 'grau')\n",
    "plt.legend()\n",
    "\n",
    "plt.xlabel('livros')\n",
    "plt.ylabel('assortatividade')\n",
    "plt.show()"
   ]
  },
  {
   "cell_type": "code",
   "execution_count": null,
   "metadata": {},
   "outputs": [],
   "source": []
  }
 ],
 "metadata": {
  "kernelspec": {
   "display_name": "Python 3",
   "language": "python",
   "name": "python3"
  },
  "language_info": {
   "codemirror_mode": {
    "name": "ipython",
    "version": 3
   },
   "file_extension": ".py",
   "mimetype": "text/x-python",
   "name": "python",
   "nbconvert_exporter": "python",
   "pygments_lexer": "ipython3",
   "version": "3.10.12"
  }
 },
 "nbformat": 4,
 "nbformat_minor": 2
}
